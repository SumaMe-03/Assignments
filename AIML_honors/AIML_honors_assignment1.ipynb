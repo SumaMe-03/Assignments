{
 "cells": [
  {
   "cell_type": "markdown",
   "id": "fddc1ac5",
   "metadata": {},
   "source": [
    "Name: Suma Gadepalli"
   ]
  },
  {
   "cell_type": "markdown",
   "id": "4c41ea8c",
   "metadata": {},
   "source": [
    "Rollno: 32364"
   ]
  },
  {
   "cell_type": "markdown",
   "id": "ef545890",
   "metadata": {},
   "source": [
    "Compute Estimators of the main statistical measures like Mean, Variance, Standard Deviation, Covariance, Correlation and Standard error with respect to any example. Display graphically the distribution of samples."
   ]
  },
  {
   "cell_type": "code",
   "execution_count": 20,
   "id": "d270078c",
   "metadata": {},
   "outputs": [],
   "source": [
    "import pandas as pd\n",
    "import numpy as np\n",
    "import matplotlib.pyplot as plt"
   ]
  },
  {
   "cell_type": "code",
   "execution_count": 3,
   "id": "20ca6fba",
   "metadata": {},
   "outputs": [],
   "source": [
    "#Sample dataset as exam scores of a student\n",
    "exam_scores = np.array([85, 70, 90, 78, 92, 88, 95, 60, 75, 83])"
   ]
  },
  {
   "cell_type": "code",
   "execution_count": 4,
   "id": "1ed15553",
   "metadata": {},
   "outputs": [],
   "source": [
    "#Mean\n",
    "mean=np.mean(exam_scores)"
   ]
  },
  {
   "cell_type": "code",
   "execution_count": 5,
   "id": "71415d0f",
   "metadata": {},
   "outputs": [
    {
     "data": {
      "text/plain": [
       "81.6"
      ]
     },
     "execution_count": 5,
     "metadata": {},
     "output_type": "execute_result"
    }
   ],
   "source": [
    "mean"
   ]
  },
  {
   "cell_type": "code",
   "execution_count": 7,
   "id": "191a0f11",
   "metadata": {},
   "outputs": [],
   "source": [
    "#Variance\n",
    "variance=np.var(exam_scores)"
   ]
  },
  {
   "cell_type": "code",
   "execution_count": 8,
   "id": "f241a558",
   "metadata": {},
   "outputs": [
    {
     "data": {
      "text/plain": [
       "107.04"
      ]
     },
     "execution_count": 8,
     "metadata": {},
     "output_type": "execute_result"
    }
   ],
   "source": [
    "variance"
   ]
  },
  {
   "cell_type": "code",
   "execution_count": 9,
   "id": "8a8183b8",
   "metadata": {},
   "outputs": [],
   "source": [
    "#Standard deviation\n",
    "std_deviation=np.std(exam_scores)"
   ]
  },
  {
   "cell_type": "code",
   "execution_count": 10,
   "id": "ba185b4d",
   "metadata": {},
   "outputs": [
    {
     "data": {
      "text/plain": [
       "10.34601372510205"
      ]
     },
     "execution_count": 10,
     "metadata": {},
     "output_type": "execute_result"
    }
   ],
   "source": [
    "std_deviation"
   ]
  },
  {
   "cell_type": "code",
   "execution_count": 11,
   "id": "12bde16e",
   "metadata": {},
   "outputs": [],
   "source": [
    "#For plotting the covariance matrix, take another data sample\n",
    "#considering the study hours for each exam\n",
    "\n",
    "study_hours = np.array([10, 7, 8, 6, 9, 10, 11, 5, 6, 7])"
   ]
  },
  {
   "cell_type": "code",
   "execution_count": 12,
   "id": "f6b97c1e",
   "metadata": {},
   "outputs": [],
   "source": [
    "#covariance Matrix\n",
    "covariance_matrix=np.cov(exam_scores)"
   ]
  },
  {
   "cell_type": "code",
   "execution_count": 14,
   "id": "1356f210",
   "metadata": {},
   "outputs": [
    {
     "data": {
      "text/plain": [
       "array(118.93333333)"
      ]
     },
     "execution_count": 14,
     "metadata": {},
     "output_type": "execute_result"
    }
   ],
   "source": [
    "covariance_matrix"
   ]
  },
  {
   "cell_type": "code",
   "execution_count": 15,
   "id": "2bdaed28",
   "metadata": {},
   "outputs": [],
   "source": [
    "#Correlation coefficient\n",
    "corr_coeff=np.corrcoef(exam_scores, study_hours)"
   ]
  },
  {
   "cell_type": "code",
   "execution_count": 16,
   "id": "04d31021",
   "metadata": {},
   "outputs": [
    {
     "data": {
      "text/plain": [
       "array([[1.        , 0.83324765],\n",
       "       [0.83324765, 1.        ]])"
      ]
     },
     "execution_count": 16,
     "metadata": {},
     "output_type": "execute_result"
    }
   ],
   "source": [
    "corr_coeff"
   ]
  },
  {
   "cell_type": "code",
   "execution_count": 17,
   "id": "89145222",
   "metadata": {},
   "outputs": [],
   "source": [
    "# Standard Error (taking larger dataset)\n",
    "class_exam_scores = np.array([85, 70, 90, 78, 92, 88, 95, 60, 75, 83, 80, 88, 78, 85, 92])\n",
    "standard_error = np.std(class_exam_scores) / np.sqrt(len(class_exam_scores))\n"
   ]
  },
  {
   "cell_type": "code",
   "execution_count": 18,
   "id": "5f735e62",
   "metadata": {},
   "outputs": [
    {
     "data": {
      "text/plain": [
       "2.3396106038778712"
      ]
     },
     "execution_count": 18,
     "metadata": {},
     "output_type": "execute_result"
    }
   ],
   "source": [
    "standard_error"
   ]
  },
  {
   "cell_type": "code",
   "execution_count": 31,
   "id": "bfc27caf",
   "metadata": {},
   "outputs": [
    {
     "data": {
      "image/png": "[encoded data removed]",
      "text/plain": [
       "<Figure size 720x432 with 1 Axes>"
      ]
     },
     "metadata": {
      "needs_background": "light"
     },
     "output_type": "display_data"
    }
   ],
   "source": [
    "# Plotting the distribution of exam scores\n",
    "# Mean\n",
    "plt.figure(figsize=(10, 6))\n",
    "plt.hist(exam_scores, bins=8, edgecolor='black', alpha=0.7)\n",
    "plt.axvline(mean, color='r', linestyle='dashed', linewidth=2, label=f'Mean = {mean:.2f}')\n",
    "\n",
    "#Standard Deviation\n",
    "plt.axvline(std_deviation, color='blue', linestyle='dotted', linewidth=2, label=f'Standard Deviation = {std_deviation:.2f}')\n",
    "\n",
    "#Variance\n",
    "plt.axvline(variance, color='g', linestyle='solid', linewidth=2, label=f'Variance = {variance:.2f}')\n",
    "\n",
    "#Standard Error\n",
    "plt.axvline(standard_error, color='cyan', linestyle='solid', linewidth=2, label=f'Standard Error = {standard_error:.2f}')\n",
    "\n",
    "plt.title('Distribution of Exam Scores')\n",
    "plt.xlabel('Exam Scores')\n",
    "plt.ylabel('Frequency')\n",
    "plt.legend()\n",
    "plt.show()"
   ]
  },
  {
   "cell_type": "code",
   "execution_count": null,
   "id": "89301f6c",
   "metadata": {},
   "outputs": [],
   "source": []
  }
 ],
 "metadata": {
  "kernelspec": {
   "display_name": "Python 3 (ipykernel)",
   "language": "python",
   "name": "python3"
  },
  "language_info": {
   "codemirror_mode": {
    "name": "ipython",
    "version": 3
   },
   "file_extension": ".py",
   "mimetype": "text/x-python",
   "name": "python",
   "nbconvert_exporter": "python",
   "pygments_lexer": "ipython3",
   "version": "3.9.12"
  }
 },
 "nbformat": 4,
 "nbformat_minor": 5
}
